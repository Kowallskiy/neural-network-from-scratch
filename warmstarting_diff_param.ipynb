{
  "nbformat": 4,
  "nbformat_minor": 0,
  "metadata": {
    "colab": {
      "provenance": []
    },
    "kernelspec": {
      "name": "python3",
      "display_name": "Python 3"
    },
    "language_info": {
      "name": "python"
    }
  },
  "cells": [
    {
      "cell_type": "markdown",
      "source": [
        "Whether you are loading from a partial __state_dict__, which is missing some keys, or loading a __state_dict__ with more keys than the model that you are loading into, you can set the strict argument to False in the __load_state_dict()__ function to ignore non-matching keys. In this recipe, we will experiment with warmstarting a model using parameters of a different model"
      ],
      "metadata": {
        "id": "3eiB9-Lc83Zc"
      }
    },
    {
      "cell_type": "code",
      "execution_count": 1,
      "metadata": {
        "id": "xoZ36Mox8tI2"
      },
      "outputs": [],
      "source": [
        "import torch\n",
        "import torch.nn as nn\n",
        "import torch.optim as optim\n"
      ]
    },
    {
      "cell_type": "code",
      "source": [
        "class NetA(nn.Module):\n",
        "  def __init__(self):\n",
        "    super(NetA, self).__init__()\n",
        "    self.conv1 = nn.Conv2d(3, 6, 5)\n",
        "    self.pool = nn.MaxPool2d(2, 2)\n",
        "    self.conv2 = nn.Conv2d(6, 16, 5)\n",
        "    self.fc1 = nn.Linear(16 * 5 * 5, 120)\n",
        "    self.fc2 = nn.Linear(120, 84)\n",
        "    self.fc3 = nn.Linear(84, 10)\n",
        "\n",
        "  def forward(self, x):\n",
        "    x = self.pool(torch.F.relu(self.conv1(x)))\n",
        "    x = self.pool(torch.F.relu(self.conv2(x)))\n",
        "    x = x.view(-1, 16 * 5 * 5)\n",
        "    x = torch.F.relu(self.fc1(x))\n",
        "    x = torch.F.relu(self.fc2(x))\n",
        "    x = self.fc3(x)\n",
        "    return x\n",
        "\n",
        "netA = NetA()\n",
        "\n",
        "class NetB(nn.Module):\n",
        "    def __init__(self):\n",
        "        super(NetB, self).__init__()\n",
        "        self.conv1 = nn.Conv2d(3, 6, 5)\n",
        "        self.pool = nn.MaxPool2d(2, 2)\n",
        "        self.conv2 = nn.Conv2d(6, 16, 5)\n",
        "        self.fc1 = nn.Linear(16 * 5 * 5, 120)\n",
        "        self.fc2 = nn.Linear(120, 84)\n",
        "        self.fc3 = nn.Linear(84, 10)\n",
        "\n",
        "    def forward(self, x):\n",
        "        x = self.pool(torch.F.relu(self.conv1(x)))\n",
        "        x = self.pool(torch.F.relu(self.conv2(x)))\n",
        "        x = x.view(-1, 16 * 5 * 5)\n",
        "        x = torch.F.relu(self.fc1(x))\n",
        "        x = torch.F.relu(self.fc2(x))\n",
        "        x = self.fc3(x)\n",
        "        return x\n",
        "\n",
        "netB = NetB()"
      ],
      "metadata": {
        "id": "1JpnEp0x9MgC"
      },
      "execution_count": null,
      "outputs": []
    },
    {
      "cell_type": "code",
      "source": [
        "PATH = 'model.pt'\n",
        "torch.save(netA.state_dict(), PATH)"
      ],
      "metadata": {
        "id": "8HcdnJOgC_ps"
      },
      "execution_count": null,
      "outputs": []
    },
    {
      "cell_type": "code",
      "source": [
        "netB.load_state_dict(torch.load(PATH), strict=False)"
      ],
      "metadata": {
        "id": "v0TbYXXmDaZQ"
      },
      "execution_count": null,
      "outputs": []
    }
  ]
}