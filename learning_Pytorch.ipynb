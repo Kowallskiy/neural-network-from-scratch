{
  "nbformat": 4,
  "nbformat_minor": 0,
  "metadata": {
    "colab": {
      "provenance": []
    },
    "kernelspec": {
      "name": "python3",
      "display_name": "Python 3"
    },
    "language_info": {
      "name": "python"
    }
  },
  "cells": [
    {
      "cell_type": "code",
      "source": [
        "import torch\n",
        "from torch import nn\n",
        "from torch.utils.data import DataLoader\n",
        "from torchvision import datasets\n",
        "from torchvision.transforms import ToTensor"
      ],
      "metadata": {
        "id": "yBEWtYPRJfjF"
      },
      "execution_count": null,
      "outputs": []
    },
    {
      "cell_type": "code",
      "source": [
        "training_data = datasets.FashionMNIST(\n",
        "    train=True,\n",
        "    transform=ToTensor(),\n",
        "    download=True,\n",
        "    root='data'\n",
        ")\n",
        "\n",
        "test_data = datasets.FashionMNIST(\n",
        "    root='data',\n",
        "    download=True,\n",
        "    transform=ToTensor(),\n",
        "    train=False\n",
        ")"
      ],
      "metadata": {
        "id": "Xrr62g5MKgu-",
        "colab": {
          "base_uri": "https://localhost:8080/"
        },
        "outputId": "78f9185d-1e74-4121-c34a-129b93423246"
      },
      "execution_count": null,
      "outputs": [
        {
          "output_type": "stream",
          "name": "stdout",
          "text": [
            "Downloading http://fashion-mnist.s3-website.eu-central-1.amazonaws.com/train-images-idx3-ubyte.gz\n",
            "Downloading http://fashion-mnist.s3-website.eu-central-1.amazonaws.com/train-images-idx3-ubyte.gz to data/FashionMNIST/raw/train-images-idx3-ubyte.gz\n"
          ]
        },
        {
          "output_type": "stream",
          "name": "stderr",
          "text": [
            "100%|██████████| 26421880/26421880 [00:01<00:00, 18249084.34it/s]\n"
          ]
        },
        {
          "output_type": "stream",
          "name": "stdout",
          "text": [
            "Extracting data/FashionMNIST/raw/train-images-idx3-ubyte.gz to data/FashionMNIST/raw\n",
            "\n",
            "Downloading http://fashion-mnist.s3-website.eu-central-1.amazonaws.com/train-labels-idx1-ubyte.gz\n",
            "Downloading http://fashion-mnist.s3-website.eu-central-1.amazonaws.com/train-labels-idx1-ubyte.gz to data/FashionMNIST/raw/train-labels-idx1-ubyte.gz\n"
          ]
        },
        {
          "output_type": "stream",
          "name": "stderr",
          "text": [
            "100%|██████████| 29515/29515 [00:00<00:00, 287909.81it/s]\n"
          ]
        },
        {
          "output_type": "stream",
          "name": "stdout",
          "text": [
            "Extracting data/FashionMNIST/raw/train-labels-idx1-ubyte.gz to data/FashionMNIST/raw\n",
            "\n",
            "Downloading http://fashion-mnist.s3-website.eu-central-1.amazonaws.com/t10k-images-idx3-ubyte.gz\n",
            "Downloading http://fashion-mnist.s3-website.eu-central-1.amazonaws.com/t10k-images-idx3-ubyte.gz to data/FashionMNIST/raw/t10k-images-idx3-ubyte.gz\n"
          ]
        },
        {
          "output_type": "stream",
          "name": "stderr",
          "text": [
            "100%|██████████| 4422102/4422102 [00:00<00:00, 5550960.29it/s]\n"
          ]
        },
        {
          "output_type": "stream",
          "name": "stdout",
          "text": [
            "Extracting data/FashionMNIST/raw/t10k-images-idx3-ubyte.gz to data/FashionMNIST/raw\n",
            "\n",
            "Downloading http://fashion-mnist.s3-website.eu-central-1.amazonaws.com/t10k-labels-idx1-ubyte.gz\n",
            "Downloading http://fashion-mnist.s3-website.eu-central-1.amazonaws.com/t10k-labels-idx1-ubyte.gz to data/FashionMNIST/raw/t10k-labels-idx1-ubyte.gz\n"
          ]
        },
        {
          "output_type": "stream",
          "name": "stderr",
          "text": [
            "100%|██████████| 5148/5148 [00:00<00:00, 11703131.16it/s]\n"
          ]
        },
        {
          "output_type": "stream",
          "name": "stdout",
          "text": [
            "Extracting data/FashionMNIST/raw/t10k-labels-idx1-ubyte.gz to data/FashionMNIST/raw\n",
            "\n"
          ]
        }
      ]
    },
    {
      "cell_type": "code",
      "source": [
        "batch_size = 64\n",
        "\n",
        "train_dataloader = DataLoader(training_data, batch_size=batch_size)\n",
        "test_dataloader = DataLoader(test_data, batch_size=batch_size)"
      ],
      "metadata": {
        "id": "ZsJ7V8SbLeRE"
      },
      "execution_count": null,
      "outputs": []
    },
    {
      "cell_type": "code",
      "source": [
        "device = (\n",
        "    'cuda' if torch.cuda.is_available() else 'cpu'\n",
        ")\n",
        "\n",
        "print(f\"Using {device} device\")"
      ],
      "metadata": {
        "colab": {
          "base_uri": "https://localhost:8080/"
        },
        "id": "26oyVEheMFgM",
        "outputId": "2a2c78b3-87c2-4a2b-c659-a989c198feb8"
      },
      "execution_count": null,
      "outputs": [
        {
          "output_type": "stream",
          "name": "stdout",
          "text": [
            "Using cpu device\n"
          ]
        }
      ]
    },
    {
      "cell_type": "code",
      "source": [
        "class NeuralNetwork(nn.Module):\n",
        "  def __init__(self):\n",
        "    super().__init__()\n",
        "    self.flatten = nn.Flatten()\n",
        "    self.linear_relu_stack = nn.Sequential(\n",
        "        nn.Linear(28*28, 512),\n",
        "        nn.ReLU(),\n",
        "        nn.Linear(512, 512),\n",
        "        nn.ReLU(),\n",
        "        nn.Linear(512, 10)\n",
        "    )\n",
        "\n",
        "  def forward(self, x):\n",
        "    x = self.flatten(x)\n",
        "    logits = self.linear_relu_stack(x)\n",
        "    return logits"
      ],
      "metadata": {
        "id": "JNOac4i5MWk9"
      },
      "execution_count": null,
      "outputs": []
    },
    {
      "cell_type": "code",
      "source": [
        "model = NeuralNetwork().to(device)\n",
        "print(model)"
      ],
      "metadata": {
        "colab": {
          "base_uri": "https://localhost:8080/"
        },
        "id": "_8fg8sKP9NqI",
        "outputId": "9d480d6d-d010-4224-ff62-734f147233e1"
      },
      "execution_count": null,
      "outputs": [
        {
          "output_type": "stream",
          "name": "stdout",
          "text": [
            "NeuralNetwork(\n",
            "  (flatten): Flatten(start_dim=1, end_dim=-1)\n",
            "  (linear_relu_stack): Sequential(\n",
            "    (0): Linear(in_features=784, out_features=512, bias=True)\n",
            "    (1): ReLU()\n",
            "    (2): Linear(in_features=512, out_features=512, bias=True)\n",
            "    (3): ReLU()\n",
            "    (4): Linear(in_features=512, out_features=10, bias=True)\n",
            "  )\n",
            ")\n"
          ]
        }
      ]
    },
    {
      "cell_type": "code",
      "source": [
        "loss_fn = nn.CrossEntropyLoss()\n",
        "optimizer = torch.optim.SGD(model.parameters(), lr=1e-3)"
      ],
      "metadata": {
        "id": "dJFbbAVU9eQY"
      },
      "execution_count": null,
      "outputs": []
    },
    {
      "cell_type": "code",
      "source": [
        "def train(dataloader, model, loss_fn, optimizer):\n",
        "  size = len(dataloader.dataset)\n",
        "  model.train()\n",
        "  for batch, (X, y) in enumerate(dataloader):\n",
        "    X, y = X.to(device), y.to(device)\n",
        "\n",
        "    pred = model(X)\n",
        "    loss = loss_fn(pred, y)\n",
        "\n",
        "    loss.backward()\n",
        "    optimizer.step()\n",
        "    optimizer.zero_grad()\n",
        "\n",
        "    if batch % 100 == 0:\n",
        "      loss, current = loss.item(), (batch + 1) * len(X)\n",
        "      print(f\"loss: {loss:>7f} [{current:>5d}/{size:>5d}]\")"
      ],
      "metadata": {
        "id": "BL8J2oS8-aw_"
      },
      "execution_count": null,
      "outputs": []
    },
    {
      "cell_type": "code",
      "source": [
        "def test(dataloader, model, loss_fn):\n",
        "  size = len(dataloader.dataset)\n",
        "  num_batches = len(dataloader)\n",
        "  model.eval()\n",
        "\n",
        "  test_loss, correct = 0, 0\n",
        "  with torch.no_grad():\n",
        "    for X, y in dataloader:\n",
        "      X, y = X.to(device), y.to(device)\n",
        "      pred = model(X)\n",
        "      test_loss += loss_fn(pred, y).item()\n",
        "      correct += (pred.argmax(1) == y).type(torch.float).sum().item()\n",
        "  test_loss /= num_batches\n",
        "  correct /= size\n",
        "  print(f\"Test Error: \\n Accuracy: {(100*correct):>0.1f}%, Avg loss: {test_loss:>8f} \\n\")"
      ],
      "metadata": {
        "id": "u0FUL_yfCBjk"
      },
      "execution_count": null,
      "outputs": []
    },
    {
      "cell_type": "code",
      "source": [
        "epochs = 5\n",
        "for t in range(epochs):\n",
        "  print(f\"Epoch: {t+1}\\n------------------------\")\n",
        "  train(train_dataloader, model, loss_fn, optimizer)\n",
        "  test(test_dataloader, model, loss_fn)\n",
        "print(\"Done\")"
      ],
      "metadata": {
        "colab": {
          "base_uri": "https://localhost:8080/"
        },
        "id": "Jsq6LvD5FQyx",
        "outputId": "237948f2-85fc-418c-abd0-2c13f55e5a0e"
      },
      "execution_count": null,
      "outputs": [
        {
          "output_type": "stream",
          "name": "stdout",
          "text": [
            "Epoch: 1\n",
            "------------------------\n",
            "loss: 2.307316 [   64/60000]\n",
            "loss: 2.294809 [ 6464/60000]\n",
            "loss: 2.268579 [12864/60000]\n",
            "loss: 2.262986 [19264/60000]\n",
            "loss: 2.257206 [25664/60000]\n",
            "loss: 2.228195 [32064/60000]\n",
            "loss: 2.237793 [38464/60000]\n",
            "loss: 2.206419 [44864/60000]\n",
            "loss: 2.191752 [51264/60000]\n",
            "loss: 2.166111 [57664/60000]\n",
            "Test Error: \n",
            " Accuracy: 44.5%, Avg loss: 2.164060 \n",
            "\n",
            "Epoch: 2\n",
            "------------------------\n",
            "loss: 2.181288 [   64/60000]\n",
            "loss: 2.171366 [ 6464/60000]\n",
            "loss: 2.108002 [12864/60000]\n",
            "loss: 2.118260 [19264/60000]\n",
            "loss: 2.084996 [25664/60000]\n",
            "loss: 2.022558 [32064/60000]\n",
            "loss: 2.052957 [38464/60000]\n",
            "loss: 1.976232 [44864/60000]\n",
            "loss: 1.966843 [51264/60000]\n",
            "loss: 1.902168 [57664/60000]\n",
            "Test Error: \n",
            " Accuracy: 54.2%, Avg loss: 1.904265 \n",
            "\n",
            "Epoch: 3\n",
            "------------------------\n",
            "loss: 1.943655 [   64/60000]\n",
            "loss: 1.918300 [ 6464/60000]\n",
            "loss: 1.795068 [12864/60000]\n",
            "loss: 1.827301 [19264/60000]\n",
            "loss: 1.740190 [25664/60000]\n",
            "loss: 1.678415 [32064/60000]\n",
            "loss: 1.703632 [38464/60000]\n",
            "loss: 1.601006 [44864/60000]\n",
            "loss: 1.615013 [51264/60000]\n",
            "loss: 1.518459 [57664/60000]\n",
            "Test Error: \n",
            " Accuracy: 60.2%, Avg loss: 1.537951 \n",
            "\n",
            "Epoch: 4\n",
            "------------------------\n",
            "loss: 1.604029 [   64/60000]\n",
            "loss: 1.576222 [ 6464/60000]\n",
            "loss: 1.420599 [12864/60000]\n",
            "loss: 1.489450 [19264/60000]\n",
            "loss: 1.386708 [25664/60000]\n",
            "loss: 1.363451 [32064/60000]\n",
            "loss: 1.384554 [38464/60000]\n",
            "loss: 1.302973 [44864/60000]\n",
            "loss: 1.330247 [51264/60000]\n",
            "loss: 1.240599 [57664/60000]\n",
            "Test Error: \n",
            " Accuracy: 63.5%, Avg loss: 1.268661 \n",
            "\n",
            "Epoch: 5\n",
            "------------------------\n",
            "loss: 1.340797 [   64/60000]\n",
            "loss: 1.330694 [ 6464/60000]\n",
            "loss: 1.163185 [12864/60000]\n",
            "loss: 1.265748 [19264/60000]\n",
            "loss: 1.149979 [25664/60000]\n",
            "loss: 1.159261 [32064/60000]\n",
            "loss: 1.187432 [38464/60000]\n",
            "loss: 1.119005 [44864/60000]\n",
            "loss: 1.150240 [51264/60000]\n",
            "loss: 1.077916 [57664/60000]\n",
            "Test Error: \n",
            " Accuracy: 64.6%, Avg loss: 1.099637 \n",
            "\n",
            "Done\n"
          ]
        }
      ]
    },
    {
      "cell_type": "markdown",
      "source": [
        "# Tensors"
      ],
      "metadata": {
        "id": "F6bP2_oVOZp2"
      }
    },
    {
      "cell_type": "code",
      "source": [
        "import torch\n",
        "import numpy as np"
      ],
      "metadata": {
        "id": "lPZ62RivObPw"
      },
      "execution_count": null,
      "outputs": []
    },
    {
      "cell_type": "code",
      "source": [
        "data = [[1, 2], [3, 4]]\n",
        "x_data = torch.tensor(data)"
      ],
      "metadata": {
        "id": "XjS6LTC-Oxdk"
      },
      "execution_count": null,
      "outputs": []
    },
    {
      "cell_type": "code",
      "source": [
        "np_array = np.array(data)\n",
        "x_np = torch.from_numpy(np_array)"
      ],
      "metadata": {
        "id": "xuL6kAUFO9zu"
      },
      "execution_count": null,
      "outputs": []
    },
    {
      "cell_type": "code",
      "source": [
        "x_ones = torch.ones_like(x_data)\n",
        "print(f\"Tensor: \\n {x_ones} \\n\")\n",
        "\n",
        "x_rand = torch.rand_like(x_data, dtype=torch.float)\n",
        "print(f\"Tensor: \\n {x_rand} \\n\")"
      ],
      "metadata": {
        "colab": {
          "base_uri": "https://localhost:8080/"
        },
        "id": "3p8xJwQLPQlM",
        "outputId": "02431c66-4db7-4da1-de85-95c98ca51e6d"
      },
      "execution_count": null,
      "outputs": [
        {
          "output_type": "stream",
          "name": "stdout",
          "text": [
            "Tensor: \n",
            " tensor([[1, 1],\n",
            "        [1, 1]]) \n",
            "\n",
            "Tensor: \n",
            " tensor([[0.5923, 0.0012],\n",
            "        [0.4990, 0.2615]]) \n",
            "\n"
          ]
        }
      ]
    },
    {
      "cell_type": "code",
      "source": [
        "shape = (5, 2, 4)\n",
        "\n",
        "tensor_one = torch.ones(shape)\n",
        "tensor_rand = torch.rand(shape)\n",
        "tensor_zero = torch.zeros(shape)\n",
        "\n",
        "print(f\"Tensor: \\n {tensor_one} \\n\")\n",
        "print(f\"Tensor: \\n {tensor_rand} \\n\")\n",
        "print(f\"Tensor: \\n {tensor_zero} \\n\")"
      ],
      "metadata": {
        "colab": {
          "base_uri": "https://localhost:8080/"
        },
        "id": "G1ksp3dAQbKo",
        "outputId": "1f166fc4-66f3-4483-ee18-0185dd6fd173"
      },
      "execution_count": null,
      "outputs": [
        {
          "output_type": "stream",
          "name": "stdout",
          "text": [
            "Tensor: \n",
            " tensor([[[1., 1., 1., 1.],\n",
            "         [1., 1., 1., 1.]],\n",
            "\n",
            "        [[1., 1., 1., 1.],\n",
            "         [1., 1., 1., 1.]],\n",
            "\n",
            "        [[1., 1., 1., 1.],\n",
            "         [1., 1., 1., 1.]],\n",
            "\n",
            "        [[1., 1., 1., 1.],\n",
            "         [1., 1., 1., 1.]],\n",
            "\n",
            "        [[1., 1., 1., 1.],\n",
            "         [1., 1., 1., 1.]]]) \n",
            "\n",
            "Tensor: \n",
            " tensor([[[0.7677, 0.5900, 0.5250, 0.8857],\n",
            "         [0.7880, 0.3378, 0.8123, 0.5675]],\n",
            "\n",
            "        [[0.5431, 0.6184, 0.7395, 0.0870],\n",
            "         [0.1053, 0.1169, 0.9323, 0.4232]],\n",
            "\n",
            "        [[0.5179, 0.7287, 0.5106, 0.7562],\n",
            "         [0.7919, 0.4161, 0.5821, 0.3447]],\n",
            "\n",
            "        [[0.0054, 0.4446, 0.2166, 0.5242],\n",
            "         [0.9331, 0.8972, 0.2350, 0.3296]],\n",
            "\n",
            "        [[0.3759, 0.8352, 0.5668, 0.4259],\n",
            "         [0.4062, 0.3368, 0.9110, 0.6016]]]) \n",
            "\n",
            "Tensor: \n",
            " tensor([[[0., 0., 0., 0.],\n",
            "         [0., 0., 0., 0.]],\n",
            "\n",
            "        [[0., 0., 0., 0.],\n",
            "         [0., 0., 0., 0.]],\n",
            "\n",
            "        [[0., 0., 0., 0.],\n",
            "         [0., 0., 0., 0.]],\n",
            "\n",
            "        [[0., 0., 0., 0.],\n",
            "         [0., 0., 0., 0.]],\n",
            "\n",
            "        [[0., 0., 0., 0.],\n",
            "         [0., 0., 0., 0.]]]) \n",
            "\n"
          ]
        }
      ]
    },
    {
      "cell_type": "code",
      "source": [
        "tensor = torch.rand(3, 4)\n",
        "\n",
        "print(f\"Tensor's datatype: {tensor.dtype}\")\n",
        "print(f\"Tensor's shape: {tensor.shape}\")\n",
        "print(f\"Tensor's device: {tensor.device}\")"
      ],
      "metadata": {
        "colab": {
          "base_uri": "https://localhost:8080/"
        },
        "id": "hY7TJqTVRP2K",
        "outputId": "c676d74e-7e41-4313-c07a-92039ef77b30"
      },
      "execution_count": null,
      "outputs": [
        {
          "output_type": "stream",
          "name": "stdout",
          "text": [
            "Tensor's datatype: torch.float32\n",
            "Tensor's shape: torch.Size([3, 4])\n",
            "Tensor's device: cpu\n"
          ]
        }
      ]
    },
    {
      "cell_type": "code",
      "source": [
        "if torch.cuda.is_available():\n",
        "  tensor = tensor.to('cuda')"
      ],
      "metadata": {
        "id": "9A_fuvqURrxw"
      },
      "execution_count": null,
      "outputs": []
    },
    {
      "cell_type": "code",
      "source": [
        "tensor = torch.ones(4, 4)\n",
        "print(f\"The first row: {tensor[0]}\")\n",
        "print(f\"The second column: {tensor[:, 1]}\")\n",
        "print(f\"The last column: {tensor[..., -1]}\")\n",
        "tensor[:, 2] = 69\n",
        "print(tensor)"
      ],
      "metadata": {
        "colab": {
          "base_uri": "https://localhost:8080/"
        },
        "id": "I-sXCpkxSHTw",
        "outputId": "3d98d7e0-1ec2-49a7-c1f3-730eac13bb7d"
      },
      "execution_count": null,
      "outputs": [
        {
          "output_type": "stream",
          "name": "stdout",
          "text": [
            "The first row: tensor([1., 1., 1., 1.])\n",
            "The second column: tensor([1., 1., 1., 1.])\n",
            "The last column: tensor([1., 1., 1., 1.])\n",
            "tensor([[ 1.,  1., 69.,  1.],\n",
            "        [ 1.,  1., 69.,  1.],\n",
            "        [ 1.,  1., 69.,  1.],\n",
            "        [ 1.,  1., 69.,  1.]])\n"
          ]
        }
      ]
    },
    {
      "cell_type": "code",
      "source": [
        "t1 = torch.cat([tensor, tensor, tensor], dim=1)\n",
        "print(t1)"
      ],
      "metadata": {
        "colab": {
          "base_uri": "https://localhost:8080/"
        },
        "id": "yomy4QNJS0f1",
        "outputId": "14d2e513-4900-464d-95dd-ff75fef9e982"
      },
      "execution_count": null,
      "outputs": [
        {
          "output_type": "stream",
          "name": "stdout",
          "text": [
            "tensor([[ 1.,  1., 69.,  1.,  1.,  1., 69.,  1.,  1.,  1., 69.,  1.],\n",
            "        [ 1.,  1., 69.,  1.,  1.,  1., 69.,  1.,  1.,  1., 69.,  1.],\n",
            "        [ 1.,  1., 69.,  1.,  1.,  1., 69.,  1.,  1.,  1., 69.,  1.],\n",
            "        [ 1.,  1., 69.,  1.,  1.,  1., 69.,  1.,  1.,  1., 69.,  1.]])\n"
          ]
        }
      ]
    },
    {
      "cell_type": "code",
      "source": [
        "y1 = tensor.mm(tensor.T)\n",
        "y2 = torch.rand_like(y1)\n",
        "res = torch.matmul(tensor, tensor.T, out=y2)\n",
        "print(res)"
      ],
      "metadata": {
        "colab": {
          "base_uri": "https://localhost:8080/"
        },
        "id": "Lpqos33STTMR",
        "outputId": "339ba1c1-5a59-4ebf-b51d-4afcd94808af"
      },
      "execution_count": null,
      "outputs": [
        {
          "output_type": "stream",
          "name": "stdout",
          "text": [
            "tensor([[4764., 4764., 4764., 4764.],\n",
            "        [4764., 4764., 4764., 4764.],\n",
            "        [4764., 4764., 4764., 4764.],\n",
            "        [4764., 4764., 4764., 4764.]])\n"
          ]
        }
      ]
    },
    {
      "cell_type": "code",
      "source": [
        "agg = tensor.sum()\n",
        "agg_item = agg.item()\n",
        "print(f\"The sum: {agg_item} \\nThe datatype: {type(agg_item)}\")"
      ],
      "metadata": {
        "colab": {
          "base_uri": "https://localhost:8080/"
        },
        "id": "5jJQdRBkWs0Z",
        "outputId": "b605e5d2-bfce-49ff-b706-0d17524c9452"
      },
      "execution_count": null,
      "outputs": [
        {
          "output_type": "stream",
          "name": "stdout",
          "text": [
            "The sum: 288.0 \n",
            "The datatype: <class 'float'>\n"
          ]
        }
      ]
    },
    {
      "cell_type": "code",
      "source": [
        "print(tensor)\n",
        "tensor.add_(3)\n",
        "print(tensor)"
      ],
      "metadata": {
        "colab": {
          "base_uri": "https://localhost:8080/"
        },
        "id": "fXsle3oeXRTy",
        "outputId": "689e2e3f-484e-40e2-8890-688ed55dc58f"
      },
      "execution_count": null,
      "outputs": [
        {
          "output_type": "stream",
          "name": "stdout",
          "text": [
            "tensor([[ 1.,  1., 69.,  1.],\n",
            "        [ 1.,  1., 69.,  1.],\n",
            "        [ 1.,  1., 69.,  1.],\n",
            "        [ 1.,  1., 69.,  1.]])\n",
            "tensor([[ 4.,  4., 72.,  4.],\n",
            "        [ 4.,  4., 72.,  4.],\n",
            "        [ 4.,  4., 72.,  4.],\n",
            "        [ 4.,  4., 72.,  4.]])\n"
          ]
        }
      ]
    },
    {
      "cell_type": "code",
      "source": [],
      "metadata": {
        "id": "0cIGVsBCXVIi"
      },
      "execution_count": null,
      "outputs": []
    }
  ]
}